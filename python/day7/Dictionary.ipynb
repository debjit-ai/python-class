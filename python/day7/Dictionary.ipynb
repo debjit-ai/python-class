{
 "cells": [
  {
   "cell_type": "markdown",
   "metadata": {},
   "source": [
    "## What is a Collection?\n",
    "A collection is nice because we can put more than one value in it and carry them all around in one convenient package\n",
    "\n",
    "We have a bunch of values in a single “variable”\n",
    "\n",
    "We do this by having more than one place “in” the variable\n",
    "\n",
    "We have ways of finding the different places in the variable\n"
   ]
  },
  {
   "cell_type": "markdown",
   "metadata": {},
   "source": [
    "## What is Not a “Collection”?\n",
    "Most of our variables have one value in them - when we put a new value in the variable - the old value is overwritten\n"
   ]
  },
  {
   "cell_type": "code",
   "execution_count": 1,
   "metadata": {},
   "outputs": [
    {
     "name": "stdout",
     "output_type": "stream",
     "text": [
      "4\n"
     ]
    }
   ],
   "source": [
    "# python\n",
    "x = 2\n",
    "x = 4\n",
    "print(x)"
   ]
  },
  {
   "cell_type": "markdown",
   "metadata": {},
   "source": [
    "## A Story of Two Collections..\n",
    "#### List\n",
    "A linear collection of values that stay in order\n",
    "#### Dictionary\n",
    "A “bag” of values, each with its own label"
   ]
  },
  {
   "cell_type": "markdown",
   "metadata": {},
   "source": [
    "# Dictionaries\n",
    "Dictionaries are Python’s most powerful data collection.\n",
    "\n",
    "Dictionaries allow us to do fast database-like operations in Python.\n",
    "\n",
    "Dictionaries have different names in different languages\n",
    "-  Associative Arrays - Perl / PHP\n",
    "-  Properties or Map or HashMap - Java\n",
    "-  Property Bag - C# / .Net"
   ]
  },
  {
   "cell_type": "markdown",
   "metadata": {},
   "source": [
    "Lists index their entries based on the position in the list\n",
    "\n",
    "Dictionaries are like bags - no order\n",
    "\n",
    "So we index the things we put in the dictionary with a “lookup tag”\n"
   ]
  },
  {
   "cell_type": "code",
   "execution_count": 1,
   "metadata": {},
   "outputs": [
    {
     "name": "stdout",
     "output_type": "stream",
     "text": [
      "{'rai': 5, 'subham': 10}\n"
     ]
    }
   ],
   "source": [
    "friends = {}\n",
    "friends['rai']=5\n",
    "friends['subham']=10\n",
    "print(friends)"
   ]
  },
  {
   "cell_type": "code",
   "execution_count": 2,
   "metadata": {},
   "outputs": [
    {
     "name": "stdout",
     "output_type": "stream",
     "text": [
      "{'money': 12, 'candy': 3, 'tissues': 75}\n"
     ]
    }
   ],
   "source": [
    "purse = dict()\n",
    "purse['money'] = 12\n",
    "purse['candy'] = 3\n",
    "purse['tissues'] = 75\n",
    "print(purse)"
   ]
  },
  {
   "cell_type": "code",
   "execution_count": 3,
   "metadata": {},
   "outputs": [
    {
     "name": "stdout",
     "output_type": "stream",
     "text": [
      "3\n"
     ]
    }
   ],
   "source": [
    "print(purse['candy'])"
   ]
  },
  {
   "cell_type": "code",
   "execution_count": 4,
   "metadata": {},
   "outputs": [
    {
     "name": "stdout",
     "output_type": "stream",
     "text": [
      "{'money': 12, 'candy': 5, 'tissues': 75}\n"
     ]
    }
   ],
   "source": [
    "purse['candy'] = purse['candy'] + 2\n",
    "print(purse)"
   ]
  },
  {
   "attachments": {
    "image.png": {
     "image/png": "[encoded data removed]"
    }
   },
   "cell_type": "markdown",
   "metadata": {},
   "source": [
    "### Comparing Lists and Dictionaries\n",
    "Dictionaries are like lists except that they use keys instead of numbers to look up values\n",
    "![image.png](attachment:image.png)"
   ]
  },
  {
   "cell_type": "code",
   "execution_count": 9,
   "metadata": {},
   "outputs": [
    {
     "name": "stdout",
     "output_type": "stream",
     "text": [
      "[21, 183]\n"
     ]
    }
   ],
   "source": [
    "lst = list()\n",
    "lst.append(21)\n",
    "lst.append(183)\n",
    "print(lst)"
   ]
  },
  {
   "cell_type": "code",
   "execution_count": 10,
   "metadata": {},
   "outputs": [
    {
     "name": "stdout",
     "output_type": "stream",
     "text": [
      "[23, 183]\n"
     ]
    }
   ],
   "source": [
    "lst[0] = 23\n",
    "print(lst)"
   ]
  },
  {
   "cell_type": "code",
   "execution_count": 11,
   "metadata": {},
   "outputs": [
    {
     "name": "stdout",
     "output_type": "stream",
     "text": [
      "{'age': 21, 'course': 182}\n",
      "{'age': 23, 'course': 182, 'marks': 100}\n"
     ]
    }
   ],
   "source": [
    "ddd = dict()\n",
    "ddd['age'] = 21\n",
    "ddd['course'] = 182\n",
    "print(ddd)\n",
    "ddd['age'] = 23\n",
    "ddd['marks'] = 100\n",
    "print(ddd)"
   ]
  },
  {
   "cell_type": "code",
   "execution_count": 12,
   "metadata": {},
   "outputs": [
    {
     "name": "stdout",
     "output_type": "stream",
     "text": [
      "{'age': 23, 'course': 182, 'marks': 150}\n"
     ]
    }
   ],
   "source": [
    "ddd['marks'] = ddd['marks']+ 50\n",
    "print(ddd)"
   ]
  },
  {
   "cell_type": "code",
   "execution_count": 13,
   "metadata": {},
   "outputs": [],
   "source": [
    "del ddd['marks']"
   ]
  },
  {
   "cell_type": "code",
   "execution_count": 14,
   "metadata": {},
   "outputs": [
    {
     "data": {
      "text/plain": [
       "{'age': 23, 'course': 182}"
      ]
     },
     "execution_count": 14,
     "metadata": {},
     "output_type": "execute_result"
    }
   ],
   "source": [
    "ddd"
   ]
  },
  {
   "cell_type": "markdown",
   "metadata": {},
   "source": [
    "### Dictionary Literals (Constants)\n",
    "-   Dictionary literals use curly braces and have a list of key : value pairs\n",
    "- You can make an empty dictionary using empty curly braces\n"
   ]
  },
  {
   "cell_type": "code",
   "execution_count": 15,
   "metadata": {},
   "outputs": [
    {
     "name": "stdout",
     "output_type": "stream",
     "text": [
      "{'dipesh': 1, 'fred': 42, 'jan': 100}\n"
     ]
    }
   ],
   "source": [
    "jjj = { 'dipesh' : 1 , 'fred' : 42, 'jan': 100}\n",
    "print(jjj)"
   ]
  },
  {
   "cell_type": "code",
   "execution_count": 16,
   "metadata": {},
   "outputs": [
    {
     "name": "stdout",
     "output_type": "stream",
     "text": [
      "{}\n"
     ]
    }
   ],
   "source": [
    "ooo = { }\n",
    "print(ooo)"
   ]
  },
  {
   "cell_type": "markdown",
   "metadata": {},
   "source": [
    "### Many Counters with a Dictionary\n",
    "One common use of dictionaries is counting how often we “see” something"
   ]
  },
  {
   "cell_type": "code",
   "execution_count": 17,
   "metadata": {},
   "outputs": [
    {
     "name": "stdout",
     "output_type": "stream",
     "text": [
      "{'dipesh': 1, 'debayan': 1}\n",
      "{'dipesh': 2, 'debayan': 1}\n"
     ]
    }
   ],
   "source": [
    "ccc = dict()\n",
    "ccc['dipesh'] = 1\n",
    "ccc['debayan'] = 1\n",
    "print(ccc)\n",
    "ccc['dipesh'] = ccc['dipesh'] + 1\n",
    "print(ccc)"
   ]
  },
  {
   "cell_type": "markdown",
   "metadata": {},
   "source": [
    "### Dictionary Tracebacks\n",
    "- It is an error to reference a key which is not in the dictionary\n",
    "- We can use the in operator to see if a key is in the dictionary"
   ]
  },
  {
   "cell_type": "code",
   "execution_count": 3,
   "metadata": {},
   "outputs": [
    {
     "ename": "KeyError",
     "evalue": "'csev'",
     "output_type": "error",
     "traceback": [
      "\u001b[1;31m---------------------------------------------------------------------------\u001b[0m",
      "\u001b[1;31mKeyError\u001b[0m                                  Traceback (most recent call last)",
      "\u001b[1;32m<ipython-input-3-21f4feaeacbb>\u001b[0m in \u001b[0;36m<module>\u001b[1;34m\u001b[0m\n\u001b[0;32m      1\u001b[0m \u001b[0mccc\u001b[0m \u001b[1;33m=\u001b[0m \u001b[0mdict\u001b[0m\u001b[1;33m(\u001b[0m\u001b[1;33m)\u001b[0m\u001b[1;33m\u001b[0m\u001b[1;33m\u001b[0m\u001b[0m\n\u001b[1;32m----> 2\u001b[1;33m \u001b[0mprint\u001b[0m\u001b[1;33m(\u001b[0m\u001b[0mccc\u001b[0m\u001b[1;33m[\u001b[0m\u001b[1;34m'csev'\u001b[0m\u001b[1;33m]\u001b[0m\u001b[1;33m)\u001b[0m\u001b[1;33m\u001b[0m\u001b[1;33m\u001b[0m\u001b[0m\n\u001b[0m",
      "\u001b[1;31mKeyError\u001b[0m: 'csev'"
     ]
    }
   ],
   "source": [
    "ccc = dict()\n",
    "print(ccc['csev'])"
   ]
  },
  {
   "cell_type": "code",
   "execution_count": 15,
   "metadata": {},
   "outputs": [
    {
     "data": {
      "text/plain": [
       "False"
      ]
     },
     "execution_count": 15,
     "metadata": {},
     "output_type": "execute_result"
    }
   ],
   "source": [
    "'csev' in ccc"
   ]
  },
  {
   "cell_type": "code",
   "execution_count": 5,
   "metadata": {},
   "outputs": [
    {
     "data": {
      "text/plain": [
       "True"
      ]
     },
     "execution_count": 5,
     "metadata": {},
     "output_type": "execute_result"
    }
   ],
   "source": [
    "ccc = dict()\n",
    "ccc['csev'] = 5\n",
    "'csev' in ccc"
   ]
  },
  {
   "cell_type": "code",
   "execution_count": 6,
   "metadata": {},
   "outputs": [
    {
     "data": {
      "text/plain": [
       "{'csev': 5}"
      ]
     },
     "execution_count": 6,
     "metadata": {},
     "output_type": "execute_result"
    }
   ],
   "source": [
    "ccc"
   ]
  },
  {
   "cell_type": "code",
   "execution_count": 21,
   "metadata": {},
   "outputs": [
    {
     "name": "stdout",
     "output_type": "stream",
     "text": [
      "{'csev': 2, 'cwen': 2, 'zqian': 1}\n"
     ]
    }
   ],
   "source": [
    "counts = dict()\n",
    "names = ['csev', 'cwen', 'csev', 'zqian', 'cwen']\n",
    "for name in names :\n",
    "    if name not in counts:\n",
    "        counts[name] = 1\n",
    "    else :\n",
    "        counts[name] = counts[name] + 1\n",
    "        \n",
    "print(counts)"
   ]
  },
  {
   "cell_type": "markdown",
   "metadata": {},
   "source": [
    "### The get Method for Dictionaries\n",
    "The pattern of checking to see if a key is already in a dictionary and assuming a default value if the key is not there is so common that there is a method called get() that does this for us\n"
   ]
  },
  {
   "cell_type": "code",
   "execution_count": 22,
   "metadata": {},
   "outputs": [
    {
     "name": "stdout",
     "output_type": "stream",
     "text": [
      "{'csev': 2, 'cwen': 2, 'zqian': 1}\n"
     ]
    }
   ],
   "source": [
    "counts = dict()\n",
    "names = ['csev', 'cwen', 'csev', 'zqian', 'cwen']\n",
    "for name in names :\n",
    "    counts[name] = counts.get(name, 0) + 1\n",
    "print(counts)"
   ]
  },
  {
   "cell_type": "markdown",
   "metadata": {},
   "source": [
    "### Counting Words in Text"
   ]
  },
  {
   "cell_type": "markdown",
   "metadata": {},
   "source": [
    "### Counting Pattern\n",
    "The general pattern to count the words in a line of text is to split the line into words, then loop through the words and use a dictionary to track the count of each word independently."
   ]
  },
  {
   "cell_type": "code",
   "execution_count": 34,
   "metadata": {},
   "outputs": [
    {
     "name": "stdout",
     "output_type": "stream",
     "text": [
      "Counting...\n",
      "Counts {'Hold': 1, 'on': 1, 'a': 2, 'minute,': 1, 'Socrates': 1, 'replied,': 1, 'Before': 1, 'you': 4, 'talk': 1, 'to': 4, 'me': 2, 'about': 2, 'my': 1, 'friend,': 1, 'it': 2, 'might': 1, 'be': 1, 'good': 1, 'idea': 1, 'take': 1, 'moment': 1, 'and': 1, 'filter': 3, 'what': 2, 'are': 2, 'going': 1, 'say.': 1, 'That’s': 1, 'why': 1, 'I': 1, 'call': 1, 'the': 1, 'triple': 1, 'test.': 1, 'The': 1, 'first': 1, 'is': 2, 'Truth.': 1, 'Have': 1, 'made': 1, 'absolutely': 1, 'sure': 1, 'that': 1, 'tell': 1, 'true?': 1}\n"
     ]
    }
   ],
   "source": [
    "story = \"A man who was the lone survivor of a terrible shipwreck was washed ashore on a tiny uninhabited island. Marooned and alone, the man cried out to God to rescue him from his terrible fate. Unfamiliar with survival tactics, the man struggled to endure. Eventually, he was able to construct a hut to protect him and his few possessions. Every day the man faithfully scanned the horizon for the answer to his prayer. One day, after scavenging for food, he arrived home and found his little hut burning to the ground. There was nothing left but ashes and smoke. “God, how could you do this to me, He cried. Broken and despaired he sobbed himself to sleep.\"\n"
   ]
  },
  {
   "cell_type": "code",
   "execution_count": 8,
   "metadata": {},
   "outputs": [
    {
     "name": "stdout",
     "output_type": "stream",
     "text": [
      "{'A': 1, 'man': 4, 'who': 1, 'was': 4, 'the': 7, 'lone': 1, 'survivor': 1, 'of': 1, 'a': 3, 'terrible': 2, 'shipwreck': 1, 'washed': 1, 'ashore': 1, 'on': 1, 'tiny': 1, 'uninhabited': 1, 'island.': 1, 'Marooned': 1, 'and': 5, 'alone,': 1, 'cried': 1, 'out': 1, 'to': 9, 'God': 1, 'rescue': 1, 'him': 2, 'from': 1, 'his': 4, 'fate.': 1, 'Unfamiliar': 1, 'with': 1, 'survival': 1, 'tactics,': 1, 'struggled': 1, 'endure.': 1, 'Eventually,': 1, 'he': 3, 'able': 1, 'construct': 1, 'hut': 2, 'protect': 1, 'few': 1, 'possessions.': 1, 'Every': 1, 'day': 1, 'faithfully': 1, 'scanned': 1, 'horizon': 1, 'for': 2, 'answer': 1, 'prayer.': 1, 'One': 1, 'day,': 1, 'after': 1, 'scavenging': 1, 'food,': 1, 'arrived': 1, 'home': 1, 'found': 1, 'little': 1, 'burning': 1, 'ground.': 1, 'There': 1, 'nothing': 1, 'left': 1, 'but': 1, 'ashes': 1, 'smoke.': 1, '“God,': 1, 'how': 1, 'could': 1, 'you': 1, 'do': 1, 'this': 1, 'me,': 1, 'He': 1, 'cried.': 1, 'Broken': 1, 'despaired': 1, 'sobbed': 1, 'himself': 1, 'sleep.': 1}\n"
     ]
    }
   ],
   "source": [
    "counts = dict()\n",
    "story = \"A man who was the lone survivor of a terrible shipwreck was washed ashore on a tiny uninhabited island. Marooned and alone, the man cried out to God to rescue him from his terrible fate. Unfamiliar with survival tactics, the man struggled to endure. Eventually, he was able to construct a hut to protect him and his few possessions. Every day the man faithfully scanned the horizon for the answer to his prayer. One day, after scavenging for food, he arrived home and found his little hut burning to the ground. There was nothing left but ashes and smoke. “God, how could you do this to me, He cried. Broken and despaired he sobbed himself to sleep.\"\n",
    "# story format is list      so it will be convert to list\n",
    "stories=story.split() # for sting to list conversion\n",
    "for name in stories :\n",
    "    counts[name] = counts.get(name, 0) + 1\n",
    "print(counts)"
   ]
  },
  {
   "cell_type": "markdown",
   "metadata": {},
   "source": [
    "### Definite Loops and Dictionaries\n",
    "Even though dictionaries are not stored in order, we can write a for loop that goes through all the entries in a dictionary - actually it goes through all of the keys in the dictionary and looks up the values"
   ]
  },
  {
   "cell_type": "code",
   "execution_count": 1,
   "metadata": {},
   "outputs": [
    {
     "data": {
      "text/plain": [
       "dict_items([('dipesh', 1), ('fred', 42), ('jan', 100)])"
      ]
     },
     "execution_count": 1,
     "metadata": {},
     "output_type": "execute_result"
    }
   ],
   "source": [
    "counts = { 'dipesh' : 1 , 'fred' : 42, 'jan': 100}\n",
    "counts.items()"
   ]
  },
  {
   "cell_type": "code",
   "execution_count": 2,
   "metadata": {},
   "outputs": [
    {
     "data": {
      "text/plain": [
       "dict_keys(['dipesh', 'fred', 'jan'])"
      ]
     },
     "execution_count": 2,
     "metadata": {},
     "output_type": "execute_result"
    }
   ],
   "source": [
    "counts.keys()"
   ]
  },
  {
   "cell_type": "code",
   "execution_count": 15,
   "metadata": {},
   "outputs": [
    {
     "name": "stdout",
     "output_type": "stream",
     "text": [
      "dipesh 1\n",
      "fred 42\n",
      "jan 100\n"
     ]
    }
   ],
   "source": [
    "counts = { 'dipesh' : 1 , 'fred' : 42, 'jan': 100}\n",
    "for key in counts.keys(): # \n",
    "    print(key, counts[key])"
   ]
  },
  {
   "cell_type": "code",
   "execution_count": 22,
   "metadata": {},
   "outputs": [
    {
     "name": "stdout",
     "output_type": "stream",
     "text": [
      "dipesh 1\n",
      "fred 42\n",
      "jan 100\n"
     ]
    }
   ],
   "source": [
    "counts = { 'dipesh' : 1 , 'fred' : 42, 'jan': 100}\n",
    "for key, value in counts.items():\n",
    "    print(key, value)"
   ]
  },
  {
   "cell_type": "code",
   "execution_count": 16,
   "metadata": {},
   "outputs": [],
   "source": [
    "(x, y) = (10, 20)"
   ]
  },
  {
   "cell_type": "code",
   "execution_count": 17,
   "metadata": {},
   "outputs": [
    {
     "data": {
      "text/plain": [
       "10"
      ]
     },
     "execution_count": 17,
     "metadata": {},
     "output_type": "execute_result"
    }
   ],
   "source": [
    "x"
   ]
  },
  {
   "cell_type": "code",
   "execution_count": 23,
   "metadata": {},
   "outputs": [
    {
     "name": "stdout",
     "output_type": "stream",
     "text": [
      "('dipesh', 1)\n",
      "('fred', 42)\n",
      "('jan', 100)\n"
     ]
    }
   ],
   "source": [
    "counts = { 'dipesh' : 1 , 'fred' : 42, 'jan': 100}\n",
    "for tup in counts.items():\n",
    "    print(tup)"
   ]
  },
  {
   "cell_type": "code",
   "execution_count": 24,
   "metadata": {},
   "outputs": [
    {
     "name": "stdout",
     "output_type": "stream",
     "text": [
      "{'dipesh': 1, 'fred': 42, 'jan': 100}\n"
     ]
    }
   ],
   "source": [
    "counts = { 'dipesh' : 1 , 'fred' : 42, 'jan': 100}\n",
    "dis = {}\n",
    "for k, v in counts.items():   \n",
    "    dis[k]=v\n",
    "print(dis)"
   ]
  },
  {
   "cell_type": "markdown",
   "metadata": {},
   "source": [
    "### Retrieving Lists of Keys and Values\n",
    "You can get a list of keys, values, or items (both) from a dictionary"
   ]
  },
  {
   "cell_type": "code",
   "execution_count": 63,
   "metadata": {},
   "outputs": [
    {
     "name": "stdout",
     "output_type": "stream",
     "text": [
      "['dipesh', 'fred', 'jan']\n",
      "dict_keys(['dipesh', 'fred', 'jan'])\n",
      "dict_values([1, 42, 100])\n",
      "dict_items([('dipesh', 1), ('fred', 42), ('jan', 100)])\n"
     ]
    }
   ],
   "source": [
    "jjj = { 'dipesh' : 1 , 'fred' : 42, 'jan': 100}\n",
    "print(list(jjj))\n",
    "print(jjj.keys())\n",
    "print(jjj.values())\n",
    "print(jjj.items())"
   ]
  },
  {
   "cell_type": "markdown",
   "metadata": {},
   "source": [
    "### Two Iteration Variables!\n",
    "We loop through the key-value pairs in a dictionary using *two* iteration variables\n",
    "\n",
    "Each iteration, the first variable is the key and the second variable is the corresponding value for the key"
   ]
  },
  {
   "cell_type": "code",
   "execution_count": 33,
   "metadata": {},
   "outputs": [
    {
     "name": "stdout",
     "output_type": "stream",
     "text": [
      "1 dipesh\n",
      "42 fred\n",
      "100 jan\n"
     ]
    }
   ],
   "source": [
    "jjj = { 'dipesh' : 1 , 'fred' : 42, 'jan': 100}\n",
    "for k, v in jjj.items() :\n",
    "    print(v, k)"
   ]
  },
  {
   "cell_type": "code",
   "execution_count": 3,
   "metadata": {},
   "outputs": [
    {
     "data": {
      "text/plain": [
       "1"
      ]
     },
     "execution_count": 3,
     "metadata": {},
     "output_type": "execute_result"
    }
   ],
   "source": [
    "counts['dipesh']"
   ]
  },
  {
   "cell_type": "code",
   "execution_count": 30,
   "metadata": {},
   "outputs": [],
   "source": [
    "(x, y)= (4, 5)"
   ]
  },
  {
   "cell_type": "code",
   "execution_count": 31,
   "metadata": {},
   "outputs": [
    {
     "data": {
      "text/plain": [
       "4"
      ]
     },
     "execution_count": 31,
     "metadata": {},
     "output_type": "execute_result"
    }
   ],
   "source": [
    "x"
   ]
  },
  {
   "cell_type": "markdown",
   "metadata": {},
   "source": [
    "# Dictionaries"
   ]
  },
  {
   "cell_type": "code",
   "execution_count": 2,
   "metadata": {},
   "outputs": [
    {
     "name": "stdout",
     "output_type": "stream",
     "text": [
      "{'money': 12, 'candy': 3, 'tissues': 75}\n"
     ]
    }
   ],
   "source": [
    "purse = dict()\n",
    "purse['money']=12\n",
    "purse['candy']=3\n",
    "purse['tissues']=75\n",
    "print(purse)"
   ]
  },
  {
   "cell_type": "code",
   "execution_count": 3,
   "metadata": {},
   "outputs": [
    {
     "name": "stdout",
     "output_type": "stream",
     "text": [
      "3\n"
     ]
    }
   ],
   "source": [
    "print(purse['candy'])"
   ]
  },
  {
   "cell_type": "code",
   "execution_count": 4,
   "metadata": {},
   "outputs": [],
   "source": [
    "purse['candy']=purse['candy']+2"
   ]
  },
  {
   "cell_type": "code",
   "execution_count": 5,
   "metadata": {},
   "outputs": [
    {
     "name": "stdout",
     "output_type": "stream",
     "text": [
      "{'money': 12, 'candy': 5, 'tissues': 75}\n"
     ]
    }
   ],
   "source": [
    "print(purse)"
   ]
  },
  {
   "cell_type": "code",
   "execution_count": null,
   "metadata": {},
   "outputs": [],
   "source": []
  }
 ],
 "metadata": {
  "kernelspec": {
   "display_name": "Python 3",
   "language": "python",
   "name": "python3"
  },
  "language_info": {
   "codemirror_mode": {
    "name": "ipython",
    "version": 3
   },
   "file_extension": ".py",
   "mimetype": "text/x-python",
   "name": "python",
   "nbconvert_exporter": "python",
   "pygments_lexer": "ipython3",
   "version": "3.8.5"
  }
 },
 "nbformat": 4,
 "nbformat_minor": 4
}
